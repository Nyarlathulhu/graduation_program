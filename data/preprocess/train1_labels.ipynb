{
 "cells": [
  {
   "cell_type": "code",
   "execution_count": 1,
   "id": "a9eceef3",
   "metadata": {},
   "outputs": [],
   "source": [
    "import pandas as pd\n",
    "import numpy as np"
   ]
  },
  {
   "cell_type": "code",
   "execution_count": 2,
   "id": "21d75d0b",
   "metadata": {},
   "outputs": [],
   "source": [
    "PATH = 'E:/SEN_datasets/fashionAI_attributes_train1/'"
   ]
  },
  {
   "cell_type": "code",
   "execution_count": 3,
   "id": "15118279",
   "metadata": {},
   "outputs": [],
   "source": [
    "labels = pd.read_csv(PATH+'Annotations/label.csv', names=['img_path','attr','label'])"
   ]
  },
  {
   "cell_type": "code",
   "execution_count": 4,
   "id": "a17bba91",
   "metadata": {},
   "outputs": [
    {
     "data": {
      "text/html": [
       "<div>\n",
       "<style scoped>\n",
       "    .dataframe tbody tr th:only-of-type {\n",
       "        vertical-align: middle;\n",
       "    }\n",
       "\n",
       "    .dataframe tbody tr th {\n",
       "        vertical-align: top;\n",
       "    }\n",
       "\n",
       "    .dataframe thead th {\n",
       "        text-align: right;\n",
       "    }\n",
       "</style>\n",
       "<table border=\"1\" class=\"dataframe\">\n",
       "  <thead>\n",
       "    <tr style=\"text-align: right;\">\n",
       "      <th></th>\n",
       "      <th>img_path</th>\n",
       "      <th>attr</th>\n",
       "      <th>label</th>\n",
       "    </tr>\n",
       "  </thead>\n",
       "  <tbody>\n",
       "    <tr>\n",
       "      <th>0</th>\n",
       "      <td>Images/collar_design_labels/4d8a38b29930a403e5...</td>\n",
       "      <td>collar_design_labels</td>\n",
       "      <td>nnynn</td>\n",
       "    </tr>\n",
       "    <tr>\n",
       "      <th>1</th>\n",
       "      <td>Images/collar_design_labels/bd0981f231180d2b00...</td>\n",
       "      <td>collar_design_labels</td>\n",
       "      <td>nynnn</td>\n",
       "    </tr>\n",
       "    <tr>\n",
       "      <th>2</th>\n",
       "      <td>Images/collar_design_labels/26937e1724feadfe39...</td>\n",
       "      <td>collar_design_labels</td>\n",
       "      <td>ynnnn</td>\n",
       "    </tr>\n",
       "    <tr>\n",
       "      <th>3</th>\n",
       "      <td>Images/collar_design_labels/cf4140ec542887270f...</td>\n",
       "      <td>collar_design_labels</td>\n",
       "      <td>nynnn</td>\n",
       "    </tr>\n",
       "    <tr>\n",
       "      <th>4</th>\n",
       "      <td>Images/collar_design_labels/50644b2b9de045f2d1...</td>\n",
       "      <td>collar_design_labels</td>\n",
       "      <td>nynnn</td>\n",
       "    </tr>\n",
       "    <tr>\n",
       "      <th>...</th>\n",
       "      <td>...</td>\n",
       "      <td>...</td>\n",
       "      <td>...</td>\n",
       "    </tr>\n",
       "    <tr>\n",
       "      <th>79568</th>\n",
       "      <td>Images/pant_length_labels/5af00d9cd899d3fc0bb6...</td>\n",
       "      <td>pant_length_labels</td>\n",
       "      <td>ynnnnn</td>\n",
       "    </tr>\n",
       "    <tr>\n",
       "      <th>79569</th>\n",
       "      <td>Images/pant_length_labels/79b0180beba4a9319b53...</td>\n",
       "      <td>pant_length_labels</td>\n",
       "      <td>nnynnn</td>\n",
       "    </tr>\n",
       "    <tr>\n",
       "      <th>79570</th>\n",
       "      <td>Images/pant_length_labels/8cf821ff1b24c76c4f63...</td>\n",
       "      <td>pant_length_labels</td>\n",
       "      <td>nnnnny</td>\n",
       "    </tr>\n",
       "    <tr>\n",
       "      <th>79571</th>\n",
       "      <td>Images/pant_length_labels/54ddade32a3d7f192a01...</td>\n",
       "      <td>pant_length_labels</td>\n",
       "      <td>nnnnyn</td>\n",
       "    </tr>\n",
       "    <tr>\n",
       "      <th>79572</th>\n",
       "      <td>Images/pant_length_labels/33a3e5b6063c0c83bb0b...</td>\n",
       "      <td>pant_length_labels</td>\n",
       "      <td>nnnynn</td>\n",
       "    </tr>\n",
       "  </tbody>\n",
       "</table>\n",
       "<p>79573 rows × 3 columns</p>\n",
       "</div>"
      ],
      "text/plain": [
       "                                                img_path  \\\n",
       "0      Images/collar_design_labels/4d8a38b29930a403e5...   \n",
       "1      Images/collar_design_labels/bd0981f231180d2b00...   \n",
       "2      Images/collar_design_labels/26937e1724feadfe39...   \n",
       "3      Images/collar_design_labels/cf4140ec542887270f...   \n",
       "4      Images/collar_design_labels/50644b2b9de045f2d1...   \n",
       "...                                                  ...   \n",
       "79568  Images/pant_length_labels/5af00d9cd899d3fc0bb6...   \n",
       "79569  Images/pant_length_labels/79b0180beba4a9319b53...   \n",
       "79570  Images/pant_length_labels/8cf821ff1b24c76c4f63...   \n",
       "79571  Images/pant_length_labels/54ddade32a3d7f192a01...   \n",
       "79572  Images/pant_length_labels/33a3e5b6063c0c83bb0b...   \n",
       "\n",
       "                       attr   label  \n",
       "0      collar_design_labels   nnynn  \n",
       "1      collar_design_labels   nynnn  \n",
       "2      collar_design_labels   ynnnn  \n",
       "3      collar_design_labels   nynnn  \n",
       "4      collar_design_labels   nynnn  \n",
       "...                     ...     ...  \n",
       "79568    pant_length_labels  ynnnnn  \n",
       "79569    pant_length_labels  nnynnn  \n",
       "79570    pant_length_labels  nnnnny  \n",
       "79571    pant_length_labels  nnnnyn  \n",
       "79572    pant_length_labels  nnnynn  \n",
       "\n",
       "[79573 rows x 3 columns]"
      ]
     },
     "execution_count": 4,
     "metadata": {},
     "output_type": "execute_result"
    }
   ],
   "source": [
    "labels"
   ]
  },
  {
   "cell_type": "code",
   "execution_count": 5,
   "id": "cccf3efc",
   "metadata": {},
   "outputs": [
    {
     "data": {
      "text/plain": [
       "0         nnynn\n",
       "1         nynnn\n",
       "2         ynnnn\n",
       "3         nynnn\n",
       "4         nynnn\n",
       "          ...  \n",
       "79568    ynnnnn\n",
       "79569    nnynnn\n",
       "79570    nnnnny\n",
       "79571    nnnnyn\n",
       "79572    nnnynn\n",
       "Name: label, Length: 79573, dtype: object"
      ]
     },
     "execution_count": 5,
     "metadata": {},
     "output_type": "execute_result"
    }
   ],
   "source": [
    "labels['label']"
   ]
  },
  {
   "cell_type": "code",
   "execution_count": 6,
   "id": "d5622c7a",
   "metadata": {},
   "outputs": [
    {
     "data": {
      "text/plain": [
       "79573"
      ]
     },
     "execution_count": 6,
     "metadata": {},
     "output_type": "execute_result"
    }
   ],
   "source": [
    "len(labels['label'])"
   ]
  },
  {
   "cell_type": "code",
   "execution_count": 8,
   "id": "54fff76f",
   "metadata": {},
   "outputs": [],
   "source": [
    "for i in range(len(labels['label'])):\n",
    "    if 'm' in labels['label'][i]:\n",
    "        p = np.random.rand()\n",
    "        if p <= 0.5:\n",
    "            labels['label'][i] = labels['label'][i].replace('m','0')\n",
    "        elif p > 0.5:\n",
    "            labels['label'][i] = labels['label'][i].replace('m','1')\n",
    "    labels['label'][i] = labels['label'][i].replace('n','0').replace('y','1') + 'tag'"
   ]
  },
  {
   "cell_type": "code",
   "execution_count": 9,
   "id": "e3b787c3",
   "metadata": {},
   "outputs": [
    {
     "data": {
      "text/plain": [
       "0         00100tag\n",
       "1         01000tag\n",
       "2         10000tag\n",
       "3         01000tag\n",
       "4         01000tag\n",
       "           ...    \n",
       "79568    100000tag\n",
       "79569    001000tag\n",
       "79570    000001tag\n",
       "79571    000010tag\n",
       "79572    000100tag\n",
       "Name: label, Length: 79573, dtype: object"
      ]
     },
     "execution_count": 9,
     "metadata": {},
     "output_type": "execute_result"
    }
   ],
   "source": [
    "labels['label']"
   ]
  },
  {
   "cell_type": "code",
   "execution_count": 10,
   "id": "9be5ec9a",
   "metadata": {},
   "outputs": [
    {
     "data": {
      "text/html": [
       "<div>\n",
       "<style scoped>\n",
       "    .dataframe tbody tr th:only-of-type {\n",
       "        vertical-align: middle;\n",
       "    }\n",
       "\n",
       "    .dataframe tbody tr th {\n",
       "        vertical-align: top;\n",
       "    }\n",
       "\n",
       "    .dataframe thead th {\n",
       "        text-align: right;\n",
       "    }\n",
       "</style>\n",
       "<table border=\"1\" class=\"dataframe\">\n",
       "  <thead>\n",
       "    <tr style=\"text-align: right;\">\n",
       "      <th></th>\n",
       "      <th>img_path</th>\n",
       "      <th>attr</th>\n",
       "      <th>label</th>\n",
       "    </tr>\n",
       "  </thead>\n",
       "  <tbody>\n",
       "    <tr>\n",
       "      <th>0</th>\n",
       "      <td>Images/collar_design_labels/4d8a38b29930a403e5...</td>\n",
       "      <td>collar_design_labels</td>\n",
       "      <td>00100tag</td>\n",
       "    </tr>\n",
       "    <tr>\n",
       "      <th>1</th>\n",
       "      <td>Images/collar_design_labels/bd0981f231180d2b00...</td>\n",
       "      <td>collar_design_labels</td>\n",
       "      <td>01000tag</td>\n",
       "    </tr>\n",
       "    <tr>\n",
       "      <th>2</th>\n",
       "      <td>Images/collar_design_labels/26937e1724feadfe39...</td>\n",
       "      <td>collar_design_labels</td>\n",
       "      <td>10000tag</td>\n",
       "    </tr>\n",
       "    <tr>\n",
       "      <th>3</th>\n",
       "      <td>Images/collar_design_labels/cf4140ec542887270f...</td>\n",
       "      <td>collar_design_labels</td>\n",
       "      <td>01000tag</td>\n",
       "    </tr>\n",
       "    <tr>\n",
       "      <th>4</th>\n",
       "      <td>Images/collar_design_labels/50644b2b9de045f2d1...</td>\n",
       "      <td>collar_design_labels</td>\n",
       "      <td>01000tag</td>\n",
       "    </tr>\n",
       "    <tr>\n",
       "      <th>...</th>\n",
       "      <td>...</td>\n",
       "      <td>...</td>\n",
       "      <td>...</td>\n",
       "    </tr>\n",
       "    <tr>\n",
       "      <th>79568</th>\n",
       "      <td>Images/pant_length_labels/5af00d9cd899d3fc0bb6...</td>\n",
       "      <td>pant_length_labels</td>\n",
       "      <td>100000tag</td>\n",
       "    </tr>\n",
       "    <tr>\n",
       "      <th>79569</th>\n",
       "      <td>Images/pant_length_labels/79b0180beba4a9319b53...</td>\n",
       "      <td>pant_length_labels</td>\n",
       "      <td>001000tag</td>\n",
       "    </tr>\n",
       "    <tr>\n",
       "      <th>79570</th>\n",
       "      <td>Images/pant_length_labels/8cf821ff1b24c76c4f63...</td>\n",
       "      <td>pant_length_labels</td>\n",
       "      <td>000001tag</td>\n",
       "    </tr>\n",
       "    <tr>\n",
       "      <th>79571</th>\n",
       "      <td>Images/pant_length_labels/54ddade32a3d7f192a01...</td>\n",
       "      <td>pant_length_labels</td>\n",
       "      <td>000010tag</td>\n",
       "    </tr>\n",
       "    <tr>\n",
       "      <th>79572</th>\n",
       "      <td>Images/pant_length_labels/33a3e5b6063c0c83bb0b...</td>\n",
       "      <td>pant_length_labels</td>\n",
       "      <td>000100tag</td>\n",
       "    </tr>\n",
       "  </tbody>\n",
       "</table>\n",
       "<p>79573 rows × 3 columns</p>\n",
       "</div>"
      ],
      "text/plain": [
       "                                                img_path  \\\n",
       "0      Images/collar_design_labels/4d8a38b29930a403e5...   \n",
       "1      Images/collar_design_labels/bd0981f231180d2b00...   \n",
       "2      Images/collar_design_labels/26937e1724feadfe39...   \n",
       "3      Images/collar_design_labels/cf4140ec542887270f...   \n",
       "4      Images/collar_design_labels/50644b2b9de045f2d1...   \n",
       "...                                                  ...   \n",
       "79568  Images/pant_length_labels/5af00d9cd899d3fc0bb6...   \n",
       "79569  Images/pant_length_labels/79b0180beba4a9319b53...   \n",
       "79570  Images/pant_length_labels/8cf821ff1b24c76c4f63...   \n",
       "79571  Images/pant_length_labels/54ddade32a3d7f192a01...   \n",
       "79572  Images/pant_length_labels/33a3e5b6063c0c83bb0b...   \n",
       "\n",
       "                       attr      label  \n",
       "0      collar_design_labels   00100tag  \n",
       "1      collar_design_labels   01000tag  \n",
       "2      collar_design_labels   10000tag  \n",
       "3      collar_design_labels   01000tag  \n",
       "4      collar_design_labels   01000tag  \n",
       "...                     ...        ...  \n",
       "79568    pant_length_labels  100000tag  \n",
       "79569    pant_length_labels  001000tag  \n",
       "79570    pant_length_labels  000001tag  \n",
       "79571    pant_length_labels  000010tag  \n",
       "79572    pant_length_labels  000100tag  \n",
       "\n",
       "[79573 rows x 3 columns]"
      ]
     },
     "execution_count": 10,
     "metadata": {},
     "output_type": "execute_result"
    }
   ],
   "source": [
    "labels"
   ]
  },
  {
   "cell_type": "code",
   "execution_count": 11,
   "id": "517dea68",
   "metadata": {},
   "outputs": [],
   "source": [
    "coat_length_labels = labels[labels['attr'] == 'coat_length_labels'].reset_index().drop(columns='index')"
   ]
  },
  {
   "cell_type": "code",
   "execution_count": 12,
   "id": "9f09288f",
   "metadata": {},
   "outputs": [
    {
     "data": {
      "text/html": [
       "<div>\n",
       "<style scoped>\n",
       "    .dataframe tbody tr th:only-of-type {\n",
       "        vertical-align: middle;\n",
       "    }\n",
       "\n",
       "    .dataframe tbody tr th {\n",
       "        vertical-align: top;\n",
       "    }\n",
       "\n",
       "    .dataframe thead th {\n",
       "        text-align: right;\n",
       "    }\n",
       "</style>\n",
       "<table border=\"1\" class=\"dataframe\">\n",
       "  <thead>\n",
       "    <tr style=\"text-align: right;\">\n",
       "      <th></th>\n",
       "      <th>img_path</th>\n",
       "      <th>attr</th>\n",
       "      <th>label</th>\n",
       "    </tr>\n",
       "  </thead>\n",
       "  <tbody>\n",
       "    <tr>\n",
       "      <th>0</th>\n",
       "      <td>Images/coat_length_labels/97a09b362b9cc7a6e53c...</td>\n",
       "      <td>coat_length_labels</td>\n",
       "      <td>00000001tag</td>\n",
       "    </tr>\n",
       "    <tr>\n",
       "      <th>1</th>\n",
       "      <td>Images/coat_length_labels/7a3bc1ca315b710f1a47...</td>\n",
       "      <td>coat_length_labels</td>\n",
       "      <td>10000000tag</td>\n",
       "    </tr>\n",
       "    <tr>\n",
       "      <th>2</th>\n",
       "      <td>Images/coat_length_labels/0b3de63486a6d9e576a0...</td>\n",
       "      <td>coat_length_labels</td>\n",
       "      <td>01000000tag</td>\n",
       "    </tr>\n",
       "    <tr>\n",
       "      <th>3</th>\n",
       "      <td>Images/coat_length_labels/068048ddc6f27374afbc...</td>\n",
       "      <td>coat_length_labels</td>\n",
       "      <td>00001000tag</td>\n",
       "    </tr>\n",
       "    <tr>\n",
       "      <th>4</th>\n",
       "      <td>Images/coat_length_labels/0b9613559f6c0bc19393...</td>\n",
       "      <td>coat_length_labels</td>\n",
       "      <td>00000001tag</td>\n",
       "    </tr>\n",
       "    <tr>\n",
       "      <th>...</th>\n",
       "      <td>...</td>\n",
       "      <td>...</td>\n",
       "      <td>...</td>\n",
       "    </tr>\n",
       "    <tr>\n",
       "      <th>11315</th>\n",
       "      <td>Images/coat_length_labels/64294c2b00279e3179d0...</td>\n",
       "      <td>coat_length_labels</td>\n",
       "      <td>00100000tag</td>\n",
       "    </tr>\n",
       "    <tr>\n",
       "      <th>11316</th>\n",
       "      <td>Images/coat_length_labels/db97fe1af8956491cf0a...</td>\n",
       "      <td>coat_length_labels</td>\n",
       "      <td>00000010tag</td>\n",
       "    </tr>\n",
       "    <tr>\n",
       "      <th>11317</th>\n",
       "      <td>Images/coat_length_labels/536ed605d31f472aa48e...</td>\n",
       "      <td>coat_length_labels</td>\n",
       "      <td>10000000tag</td>\n",
       "    </tr>\n",
       "    <tr>\n",
       "      <th>11318</th>\n",
       "      <td>Images/coat_length_labels/a8b750e93f3a10126e8b...</td>\n",
       "      <td>coat_length_labels</td>\n",
       "      <td>00000010tag</td>\n",
       "    </tr>\n",
       "    <tr>\n",
       "      <th>11319</th>\n",
       "      <td>Images/coat_length_labels/efbda3fd72866c71251b...</td>\n",
       "      <td>coat_length_labels</td>\n",
       "      <td>00000001tag</td>\n",
       "    </tr>\n",
       "  </tbody>\n",
       "</table>\n",
       "<p>11320 rows × 3 columns</p>\n",
       "</div>"
      ],
      "text/plain": [
       "                                                img_path                attr  \\\n",
       "0      Images/coat_length_labels/97a09b362b9cc7a6e53c...  coat_length_labels   \n",
       "1      Images/coat_length_labels/7a3bc1ca315b710f1a47...  coat_length_labels   \n",
       "2      Images/coat_length_labels/0b3de63486a6d9e576a0...  coat_length_labels   \n",
       "3      Images/coat_length_labels/068048ddc6f27374afbc...  coat_length_labels   \n",
       "4      Images/coat_length_labels/0b9613559f6c0bc19393...  coat_length_labels   \n",
       "...                                                  ...                 ...   \n",
       "11315  Images/coat_length_labels/64294c2b00279e3179d0...  coat_length_labels   \n",
       "11316  Images/coat_length_labels/db97fe1af8956491cf0a...  coat_length_labels   \n",
       "11317  Images/coat_length_labels/536ed605d31f472aa48e...  coat_length_labels   \n",
       "11318  Images/coat_length_labels/a8b750e93f3a10126e8b...  coat_length_labels   \n",
       "11319  Images/coat_length_labels/efbda3fd72866c71251b...  coat_length_labels   \n",
       "\n",
       "             label  \n",
       "0      00000001tag  \n",
       "1      10000000tag  \n",
       "2      01000000tag  \n",
       "3      00001000tag  \n",
       "4      00000001tag  \n",
       "...            ...  \n",
       "11315  00100000tag  \n",
       "11316  00000010tag  \n",
       "11317  10000000tag  \n",
       "11318  00000010tag  \n",
       "11319  00000001tag  \n",
       "\n",
       "[11320 rows x 3 columns]"
      ]
     },
     "execution_count": 12,
     "metadata": {},
     "output_type": "execute_result"
    }
   ],
   "source": [
    "coat_length_labels"
   ]
  },
  {
   "cell_type": "code",
   "execution_count": 13,
   "id": "422928e1",
   "metadata": {},
   "outputs": [
    {
     "data": {
      "text/plain": [
       "str"
      ]
     },
     "execution_count": 13,
     "metadata": {},
     "output_type": "execute_result"
    }
   ],
   "source": [
    "type(coat_length_labels['label'][0])"
   ]
  },
  {
   "cell_type": "code",
   "execution_count": 14,
   "id": "6b20fc81",
   "metadata": {},
   "outputs": [],
   "source": [
    "collar_design_labels = labels[labels['attr'] == 'collar_design_labels'].reset_index().drop(columns='index')"
   ]
  },
  {
   "cell_type": "code",
   "execution_count": 15,
   "id": "e71ff7d0",
   "metadata": {},
   "outputs": [],
   "source": [
    "lapel_design_labels = labels[labels['attr'] == 'lapel_design_labels'].reset_index().drop(columns='index')"
   ]
  },
  {
   "cell_type": "code",
   "execution_count": 16,
   "id": "91ca30cb",
   "metadata": {},
   "outputs": [],
   "source": [
    "neck_design_labels = labels[labels['attr'] == 'neck_design_labels'].reset_index().drop(columns='index')"
   ]
  },
  {
   "cell_type": "code",
   "execution_count": 17,
   "id": "3d21bf26",
   "metadata": {},
   "outputs": [],
   "source": [
    "neckline_design_labels = labels[labels['attr'] == 'neckline_design_labels'].reset_index().drop(columns='index')"
   ]
  },
  {
   "cell_type": "code",
   "execution_count": 18,
   "id": "3781d7b2",
   "metadata": {},
   "outputs": [],
   "source": [
    "pant_length_labels = labels[labels['attr'] == 'pant_length_labels'].reset_index().drop(columns='index')"
   ]
  },
  {
   "cell_type": "code",
   "execution_count": 19,
   "id": "7aadf9db",
   "metadata": {},
   "outputs": [],
   "source": [
    "skirt_length_labels = labels[labels['attr'] == 'skirt_length_labels'].reset_index().drop(columns='index')"
   ]
  },
  {
   "cell_type": "code",
   "execution_count": 20,
   "id": "4e5f51a2",
   "metadata": {},
   "outputs": [],
   "source": [
    "sleeve_length_labels = labels[labels['attr'] == 'sleeve_length_labels'].reset_index().drop(columns='index')"
   ]
  },
  {
   "cell_type": "code",
   "execution_count": 21,
   "id": "366e92e2",
   "metadata": {},
   "outputs": [],
   "source": [
    "coat_length_labels.to_csv('D:/ML/BDAA/Program/data/train1_coat_length_labels.csv', index=False)"
   ]
  },
  {
   "cell_type": "code",
   "execution_count": 26,
   "id": "eb83c6f9",
   "metadata": {},
   "outputs": [],
   "source": [
    "collar_design_labels.to_csv('D:/ML/BDAA/Program/data/train1_collar_design_labels.csv', index=False)"
   ]
  },
  {
   "cell_type": "code",
   "execution_count": 27,
   "id": "d108592d",
   "metadata": {},
   "outputs": [],
   "source": [
    "lapel_design_labels.to_csv('D:/ML/BDAA/Program/data/train1_lapel_design_labels.csv', index=False)"
   ]
  },
  {
   "cell_type": "code",
   "execution_count": 28,
   "id": "532306f7",
   "metadata": {},
   "outputs": [],
   "source": [
    "neck_design_labels.to_csv('D:/ML/BDAA/Program/data/train1_neck_design_labels.csv', index=False)"
   ]
  },
  {
   "cell_type": "code",
   "execution_count": 29,
   "id": "a485c3df",
   "metadata": {},
   "outputs": [],
   "source": [
    "neckline_design_labels.to_csv('D:/ML/BDAA/Program/data/train1_neckline_design_labels.csv', index=False)"
   ]
  },
  {
   "cell_type": "code",
   "execution_count": 30,
   "id": "4670c560",
   "metadata": {},
   "outputs": [],
   "source": [
    "pant_length_labels.to_csv('D:/ML/BDAA/Program/data/train1_pant_length_labels.csv', index=False)"
   ]
  },
  {
   "cell_type": "code",
   "execution_count": 31,
   "id": "8d625797",
   "metadata": {},
   "outputs": [],
   "source": [
    "skirt_length_labels.to_csv('D:/ML/BDAA/Program/data/train1_skirt_length_labels.csv', index=False)"
   ]
  },
  {
   "cell_type": "code",
   "execution_count": 32,
   "id": "2d93c926",
   "metadata": {},
   "outputs": [],
   "source": [
    "sleeve_length_labels.to_csv('D:/ML/BDAA/Program/data/train1_sleeve_length_labels.csv', index=False)"
   ]
  },
  {
   "cell_type": "code",
   "execution_count": null,
   "id": "c9b34efa",
   "metadata": {},
   "outputs": [],
   "source": []
  }
 ],
 "metadata": {
  "kernelspec": {
   "display_name": "Python 3",
   "language": "python",
   "name": "python3"
  },
  "language_info": {
   "codemirror_mode": {
    "name": "ipython",
    "version": 3
   },
   "file_extension": ".py",
   "mimetype": "text/x-python",
   "name": "python",
   "nbconvert_exporter": "python",
   "pygments_lexer": "ipython3",
   "version": "3.8.5"
  }
 },
 "nbformat": 4,
 "nbformat_minor": 5
}
